{
 "cells": [
  {
   "cell_type": "code",
   "execution_count": 1,
   "id": "8cff099e",
   "metadata": {},
   "outputs": [],
   "source": [
    "from pathlib import Path\n",
    "import nibabel as nib\n",
    "import numpy as np\n",
    "import matplotlib.pyplot as plt\n",
    "import torchvision\n"
   ]
  },
  {
   "cell_type": "code",
   "execution_count": 2,
   "id": "c3cef7f2",
   "metadata": {},
   "outputs": [],
   "source": [
    "files=list(Path(r\"/Users/damian/Downloads/ds000030_just_brain/\").glob(\"*\"))"
   ]
  },
  {
   "cell_type": "code",
   "execution_count": 3,
   "id": "f17eb68e",
   "metadata": {},
   "outputs": [],
   "source": [
    "#images=[nib.load(file).get_fdata() for file in files]"
   ]
  },
  {
   "cell_type": "code",
   "execution_count": 4,
   "id": "d230ea3b",
   "metadata": {},
   "outputs": [],
   "source": [
    "#stack = np.stack(images)"
   ]
  },
  {
   "cell_type": "code",
   "execution_count": 5,
   "id": "5965f420",
   "metadata": {},
   "outputs": [],
   "source": [
    "#print(stack.min())\n",
    "#print(stack.max())\n",
    "#minimum and maximum values for normalization\n"
   ]
  },
  {
   "cell_type": "code",
   "execution_count": 6,
   "id": "1e0d9876",
   "metadata": {},
   "outputs": [],
   "source": [
    "def normalize_image(im):\n",
    "    im = im / 216"
   ]
  },
  {
   "cell_type": "code",
   "execution_count": 7,
   "id": "29ad92c6",
   "metadata": {},
   "outputs": [],
   "source": [
    "data=nib.load(files[0]).get_fdata()"
   ]
  },
  {
   "cell_type": "code",
   "execution_count": 8,
   "id": "a17334fa",
   "metadata": {},
   "outputs": [
    {
     "data": {
      "text/plain": [
       "(256, 256, 256)"
      ]
     },
     "execution_count": 8,
     "metadata": {},
     "output_type": "execute_result"
    }
   ],
   "source": [
    "data.shape"
   ]
  },
  {
   "cell_type": "code",
   "execution_count": 9,
   "id": "30db2999",
   "metadata": {},
   "outputs": [
    {
     "data": {
      "text/plain": [
       "<matplotlib.image.AxesImage at 0x124b66c70>"
      ]
     },
     "execution_count": 9,
     "metadata": {},
     "output_type": "execute_result"
    },
    {
     "data": {
      "image/png": "[encoded data removed]",
      "text/plain": [
       "<Figure size 432x288 with 1 Axes>"
      ]
     },
     "metadata": {
      "needs_background": "light"
     },
     "output_type": "display_data"
    }
   ],
   "source": [
    "plt.imshow(data[180])"
   ]
  },
  {
   "cell_type": "code",
   "execution_count": 10,
   "id": "d9c27c7e",
   "metadata": {},
   "outputs": [
    {
     "data": {
      "text/plain": [
       "179.0"
      ]
     },
     "execution_count": 10,
     "metadata": {},
     "output_type": "execute_result"
    }
   ],
   "source": [
    "data.min()\n",
    "data.max()"
   ]
  },
  {
   "cell_type": "code",
   "execution_count": 11,
   "id": "5fc9dbc4",
   "metadata": {},
   "outputs": [],
   "source": [
    "import torch\n",
    "from torchsummary import summary\n",
    "import numpy as np"
   ]
  },
  {
   "cell_type": "code",
   "execution_count": 12,
   "id": "1261b362",
   "metadata": {},
   "outputs": [],
   "source": [
    "from MedicalNet.models.resnet import resnet152"
   ]
  },
  {
   "cell_type": "code",
   "execution_count": 13,
   "id": "d434546a",
   "metadata": {},
   "outputs": [],
   "source": [
    "weights_file = r\"/Users/damian/Downloads/MedicalNet_pytorch_files2/pretrain/resnet_152.pth\""
   ]
  },
  {
   "cell_type": "code",
   "execution_count": 14,
   "id": "1f48a444",
   "metadata": {
    "scrolled": true
   },
   "outputs": [
    {
     "name": "stderr",
     "output_type": "stream",
     "text": [
      "/Users/damian/BrainHack/MedicalNet/models/resnet.py:173: UserWarning: nn.init.kaiming_normal is now deprecated in favor of nn.init.kaiming_normal_.\n",
      "  m.weight = nn.init.kaiming_normal(m.weight, mode='fan_out')\n"
     ]
    }
   ],
   "source": [
    "model = resnet152(sample_input_D=256, sample_input_H=256, sample_input_W=256, num_seg_classes=2)"
   ]
  },
  {
   "cell_type": "code",
   "execution_count": 15,
   "id": "0432ab76",
   "metadata": {},
   "outputs": [],
   "source": [
    "modstr = lambda k: str(k).replace(\"module.\", \"\")"
   ]
  },
  {
   "cell_type": "code",
   "execution_count": 16,
   "id": "1c3a649d",
   "metadata": {},
   "outputs": [
    {
     "data": {
      "text/plain": [
       "<All keys matched successfully>"
      ]
     },
     "execution_count": 16,
     "metadata": {},
     "output_type": "execute_result"
    }
   ],
   "source": [
    "module_str_rem = lambda k: str(k).replace(\"module.\", \"\")\n",
    "net_dict = model.state_dict() \n",
    "pretrain = torch.load(weights_file, map_location=torch.device('cpu'))\n",
    "pretrain_dict = {modstr(k): v for k, v in pretrain['state_dict'].items()}\n",
    "net_dict.update(pretrain_dict)\n",
    "model.load_state_dict(net_dict)"
   ]
  },
  {
   "cell_type": "code",
   "execution_count": 17,
   "id": "83163455",
   "metadata": {
    "scrolled": false
   },
   "outputs": [],
   "source": [
    "newmodel = list(model.children())[:8]\n",
    "classifier = [torch.nn.AdaptiveMaxPool3d(4), torch.nn.Flatten(), torch.nn.Linear(131072, 4), torch.nn.Sigmoid()] \n",
    "newmodel.extend(classifier)"
   ]
  },
  {
   "cell_type": "code",
   "execution_count": 18,
   "id": "98d10571",
   "metadata": {},
   "outputs": [],
   "source": [
    "model = torch.nn.Sequential(*newmodel)"
   ]
  },
  {
   "cell_type": "code",
   "execution_count": 19,
   "id": "e1efe10b",
   "metadata": {},
   "outputs": [],
   "source": [
    "#newnewmodel.float()\n",
    "#summary(newnewmodel,(1,256,256,256))"
   ]
  },
  {
   "cell_type": "code",
   "execution_count": 20,
   "id": "57b170d5",
   "metadata": {},
   "outputs": [
    {
     "data": {
      "text/plain": [
       "(256, 256, 256)"
      ]
     },
     "execution_count": 20,
     "metadata": {},
     "output_type": "execute_result"
    }
   ],
   "source": [
    "data.shape"
   ]
  },
  {
   "cell_type": "code",
   "execution_count": 21,
   "id": "75c0ab20",
   "metadata": {},
   "outputs": [
    {
     "name": "stderr",
     "output_type": "stream",
     "text": [
      "/var/folders/xw/1yw1mlg54gd49g34q6hd8sxw0000gn/T/ipykernel_23510/3173324667.py:2: UserWarning: Creating a tensor from a list of numpy.ndarrays is extremely slow. Please consider converting the list to a single numpy.ndarray with numpy.array() before converting to a tensor. (Triggered internally at  /Users/distiller/project/pytorch/torch/csrc/utils/tensor_new.cpp:210.)\n",
      "  ret = model(torch.tensor([np.expand_dims(data, axis =0)]).float())\n"
     ]
    }
   ],
   "source": [
    "model.float()\n",
    "ret = model(torch.tensor([np.expand_dims(data, axis =0)]).float())"
   ]
  },
  {
   "cell_type": "code",
   "execution_count": 22,
   "id": "9ed9663f",
   "metadata": {},
   "outputs": [
    {
     "data": {
      "text/plain": [
       "torch.Size([1, 4])"
      ]
     },
     "execution_count": 22,
     "metadata": {},
     "output_type": "execute_result"
    }
   ],
   "source": [
    "ret.shape"
   ]
  },
  {
   "cell_type": "code",
   "execution_count": 23,
   "id": "094b43c0",
   "metadata": {},
   "outputs": [
    {
     "data": {
      "text/plain": [
       "array([[0.39177638, 0.6935103 , 0.63470685, 0.8717794 ]], dtype=float32)"
      ]
     },
     "execution_count": 23,
     "metadata": {},
     "output_type": "execute_result"
    }
   ],
   "source": [
    "ret.detach().numpy()"
   ]
  },
  {
   "cell_type": "code",
   "execution_count": 24,
   "id": "0b9c4a35",
   "metadata": {},
   "outputs": [],
   "source": [
    "dataset = ([[data],[[0,1,0,0]]],[[data],[[1,0,0,0]]])"
   ]
  },
  {
   "cell_type": "code",
   "execution_count": 25,
   "id": "7027cd98",
   "metadata": {},
   "outputs": [],
   "source": [
    "from tqdm import tqdm\n",
    "\n",
    "def validation(model, dataset, criterion):\n",
    "    with torch.no_grad():\n",
    "        loss = 0\n",
    "        for i, data in tqdm(enumerate(dataset, 0)):\n",
    "            inputs, labels = data\n",
    "            labels = torch.tensor(labels).float()\n",
    "            inputs = torch.tensor(np.expand_dims(inputs, axis =0)).float()\n",
    "            outputs = model(inputs)\n",
    "            _loss = criterion(outputs.float(), labels)\n",
    "            loss += _loss\n",
    "        return loss \n",
    "            \n",
    "def train_loop(model, train_dataset, val_dataset, epochs, optimizer, criterion):\n",
    "    train_history = []\n",
    "    val_history = []\n",
    "    for epoch in range(epochs):\n",
    "        running_loss = 0.0\n",
    "        for i, data in tqdm(enumerate(train_dataset, 0)):\n",
    "            inputs, labels = data\n",
    "            labels = torch.tensor(labels).float()\n",
    "            inputs = torch.tensor(np.expand_dims(inputs, axis =0)).float()\n",
    "            optimizer.zero_grad()\n",
    "            outputs = model(inputs)\n",
    "            loss = criterion(outputs.float(), labels)\n",
    "            loss.backward()\n",
    "            optimizer.step()\n",
    "            \n",
    "            running_loss += loss.item()\n",
    "        running_loss = 0.0\n",
    "        train_history.append(running_loss)\n",
    "        print(f'epoch: {epoch + 1} loss: {running_loss / 2000:.3f}')\n",
    "        val_loss = validation(model, val_dataset, criterion)\n",
    "        val_history.append(val_loss)\n",
    "        print(f\"validation loss: {val_loss.numpy()}\")\n",
    "        torch.save(model, Path(f\"model_{epoch}.pt\"))\n",
    "    print('Finished Training')\n",
    "    return (train_history, val_history)"
   ]
  },
  {
   "cell_type": "code",
   "execution_count": null,
   "id": "f050a3c6",
   "metadata": {},
   "outputs": [],
   "source": [
    "import torch.optim as optim\n",
    "\n",
    "loss = torch.nn.CrossEntropyLoss()\n",
    "optimizer = optim.SGD(model.parameters(), lr=0.001, momentum=0.9)\n",
    "model.float()\n",
    "\n",
    "train_history, val_history = train_loop(model,dataset,dataset,100, optimizer, loss)"
   ]
  },
  {
   "cell_type": "code",
   "execution_count": null,
   "id": "0bda1109",
   "metadata": {},
   "outputs": [],
   "source": [
    "validation(model, dataset, loss).numpy()"
   ]
  },
  {
   "cell_type": "code",
   "execution_count": null,
   "id": "68559d03",
   "metadata": {},
   "outputs": [],
   "source": []
  }
 ],
 "metadata": {
  "kernelspec": {
   "display_name": "Python 3 (ipykernel)",
   "language": "python",
   "name": "python3"
  },
  "language_info": {
   "codemirror_mode": {
    "name": "ipython",
    "version": 3
   },
   "file_extension": ".py",
   "mimetype": "text/x-python",
   "name": "python",
   "nbconvert_exporter": "python",
   "pygments_lexer": "ipython3",
   "version": "3.8.12"
  }
 },
 "nbformat": 4,
 "nbformat_minor": 5
}
